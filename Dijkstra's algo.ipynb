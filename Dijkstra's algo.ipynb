{
 "cells": [
  {
   "cell_type": "code",
   "execution_count": 6,
   "id": "63d76f55-d03c-4678-a191-4699ee9dcbb5",
   "metadata": {},
   "outputs": [
    {
     "name": "stdout",
     "output_type": "stream",
     "text": [
      "Shortest distances from source vertex 0:\n",
      "[0, 3, 4, 4, 6]\n"
     ]
    }
   ],
   "source": [
    "class Dijkstra:\n",
    "    def __init__(self, graph):\n",
    "        if any(any(weight < 0 for weight in row) for row in graph):\n",
    "            raise ValueError(\"Graph contains negative values. Please provide a non-negative weighted graph.\")\n",
    "\n",
    "        self.graph = graph\n",
    "        self.vertices = len(graph)\n",
    "\n",
    "    def min_distance(self, dist, visited):\n",
    "        min_dist = float('inf')\n",
    "        min_index = -1\n",
    "        for v in range(self.vertices):\n",
    "            if dist[v] < min_dist and not visited[v]:\n",
    "                min_dist = dist[v]\n",
    "                min_index = v\n",
    "        return min_index\n",
    "\n",
    "    def dijkstra(self, src):\n",
    "        dist = [float('inf')] * self.vertices\n",
    "        dist[src] = 0\n",
    "        visited = [False] * self.vertices\n",
    "\n",
    "        for _ in range(self.vertices):\n",
    "            u = self.min_distance(dist, visited)\n",
    "            visited[u] = True\n",
    "\n",
    "            for v in range(self.vertices):\n",
    "                if not visited[v] and self.graph[u][v] > 0 and dist[v] > dist[u] + self.graph[u][v]:\n",
    "                    dist[v] = dist[u] + self.graph[u][v]\n",
    "\n",
    "        return dist\n",
    "\n",
    "# Example usage\n",
    "if __name__ == \"__main__\":\n",
    "    # Example graph represented as an adjacency matrix\n",
    "    graph_matrix =[[0, 3, 0, 4, 0], \n",
    "         \t\t\t[3, 0, 1, 0, 0], \n",
    "                    [0, 1, 0, 7, 2], \n",
    "                    [4, 0, 7, 0, 5], \n",
    "                    [0, 0, 2, 5, 0]] \n",
    "\n",
    "     \n",
    "    source_vertex = 0\n",
    "    dijkstra_obj = Dijkstra(graph_matrix)\n",
    "    shortest_distances = dijkstra_obj.dijkstra(source_vertex)\n",
    "\n",
    "    result_list = []\n",
    "    # Output the result\n",
    "    print(\"Shortest distances from source vertex {}:\".format(source_vertex))\n",
    "    for i, distance in enumerate(shortest_distances):\n",
    "        if distance == float('inf'):\n",
    "            result_list.append(\"Vertex {} is unreachable.\".format(i))\n",
    "        else:\n",
    "            result_list.append(distance)\n",
    "\n",
    "    print(result_list)"
   ]
  },
  {
   "cell_type": "code",
   "execution_count": null,
   "id": "f1bab3ca-5019-4756-bd4f-0e7a9555b82a",
   "metadata": {},
   "outputs": [],
   "source": []
  }
 ],
 "metadata": {
  "kernelspec": {
   "display_name": "Python 3 (ipykernel)",
   "language": "python",
   "name": "python3"
  },
  "language_info": {
   "codemirror_mode": {
    "name": "ipython",
    "version": 3
   },
   "file_extension": ".py",
   "mimetype": "text/x-python",
   "name": "python",
   "nbconvert_exporter": "python",
   "pygments_lexer": "ipython3",
   "version": "3.11.5"
  }
 },
 "nbformat": 4,
 "nbformat_minor": 5
}
